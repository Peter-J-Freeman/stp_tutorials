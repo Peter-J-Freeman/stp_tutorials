{
 "cells": [
  {
   "cell_type": "markdown",
   "id": "7fa39017",
   "metadata": {},
   "source": [
    "## Learning outcomes\n",
    "\n",
    "In this tutorial we will go over some of the basic components and principles of Python programming, including:\n",
    "\n",
    "- running a command\n",
    "- variables\n",
    "- comments\n",
    "- operators\n",
    "- conditionals\n",
    "- data structures"
   ]
  },
  {
   "cell_type": "markdown",
   "id": "7d3e0491",
   "metadata": {},
   "source": [
    "<div class=\"alert alert-block alert-info\">\n",
    "    You can refer to the official Python tutorial for full details of methods and usage - https://docs.python.org/3/tutorial/index.html\n",
    "\n",
    "Thanks to Alan Davies for examples and text used here\n",
    "\n",
    "Remember the Zen of Python:\n",
    "\n",
    "type `import this` for the full text\n",
    "    </div>"
   ]
  },
  {
   "cell_type": "code",
   "execution_count": 1,
   "id": "5f8f4b08",
   "metadata": {},
   "outputs": [
    {
     "name": "stdout",
     "output_type": "stream",
     "text": [
      "The Zen of Python, by Tim Peters\n",
      "\n",
      "Beautiful is better than ugly.\n",
      "Explicit is better than implicit.\n",
      "Simple is better than complex.\n",
      "Complex is better than complicated.\n",
      "Flat is better than nested.\n",
      "Sparse is better than dense.\n",
      "Readability counts.\n",
      "Special cases aren't special enough to break the rules.\n",
      "Although practicality beats purity.\n",
      "Errors should never pass silently.\n",
      "Unless explicitly silenced.\n",
      "In the face of ambiguity, refuse the temptation to guess.\n",
      "There should be one-- and preferably only one --obvious way to do it.\n",
      "Although that way may not be obvious at first unless you're Dutch.\n",
      "Now is better than never.\n",
      "Although never is often better than *right* now.\n",
      "If the implementation is hard to explain, it's a bad idea.\n",
      "If the implementation is easy to explain, it may be a good idea.\n",
      "Namespaces are one honking great idea -- let's do more of those!\n"
     ]
    }
   ],
   "source": [
    "import this"
   ]
  },
  {
   "cell_type": "markdown",
   "id": "45ac9e73",
   "metadata": {},
   "source": [
    "# Start with Hello World"
   ]
  },
  {
   "cell_type": "markdown",
   "id": "edc4c8ae",
   "metadata": {},
   "source": [
    "<div class=\"alert alert-block alert-info\">\n",
    "    Start with the traditional first programme\n",
    "</div>"
   ]
  },
  {
   "cell_type": "code",
   "execution_count": 2,
   "id": "d8149fcc",
   "metadata": {},
   "outputs": [
    {
     "name": "stdout",
     "output_type": "stream",
     "text": [
      "Hello World\n"
     ]
    }
   ],
   "source": [
    "print(\"Hello World\")"
   ]
  },
  {
   "cell_type": "markdown",
   "id": "98f61b30",
   "metadata": {},
   "source": [
    "<div class=\"alert alert-block alert-info\">\n",
    "    Now modify it to say your name, or anything else\n",
    "</div>"
   ]
  },
  {
   "cell_type": "markdown",
   "id": "7fa29c81",
   "metadata": {},
   "source": [
    "# Variables"
   ]
  },
  {
   "cell_type": "markdown",
   "id": "992061f6",
   "metadata": {},
   "source": [
    "<div class=\"alert alert-block alert-info\">\n",
    "    Variables hold or store data. You should avoid using data that is not held in a variable\n",
    "</div>"
   ]
  },
  {
   "cell_type": "code",
   "execution_count": 3,
   "id": "5f765bda",
   "metadata": {},
   "outputs": [],
   "source": [
    "x = 1\n",
    "weight_kg = 10.56\n",
    "my_name = \"6\"\n",
    "price = 6\n",
    "quit = True"
   ]
  },
  {
   "cell_type": "code",
   "execution_count": 4,
   "id": "710d6661",
   "metadata": {},
   "outputs": [
    {
     "name": "stdout",
     "output_type": "stream",
     "text": [
      "David Smith\n"
     ]
    }
   ],
   "source": [
    "print(my_name)"
   ]
  },
  {
   "cell_type": "markdown",
   "id": "d14ea260",
   "metadata": {},
   "source": [
    "<div class=\"alert alert-block alert-info\">\n",
    "    Find out what type these variables are. How are these types assigned?\n",
    "</div>"
   ]
  },
  {
   "cell_type": "code",
   "execution_count": 6,
   "id": "0ebdb03a",
   "metadata": {},
   "outputs": [
    {
     "name": "stdout",
     "output_type": "stream",
     "text": [
      "<class 'float'>\n"
     ]
    }
   ],
   "source": [
    "print (type(weight_kg))"
   ]
  },
  {
   "cell_type": "markdown",
   "id": "fc42980d",
   "metadata": {},
   "source": [
    "## Variable names"
   ]
  },
  {
   "cell_type": "markdown",
   "id": "8c9852bd",
   "metadata": {},
   "source": [
    "<div class=\"alert alert-block alert-info\">\n",
    "    <b>Rules for variable names:</b>\n",
    "    \n",
    "    \n",
    "- lower case\n",
    "- words separated_by_underscores (snake case)\n",
    "- don't start with a number\n",
    "- don't use keywords\n",
    "- make them descriptive \n",
    "    \n",
    "    \n",
    "**Remember - code needs to be checked, maintained, revised, reused by others (and you)**\n",
    "\n",
    "See the PEP8 Style guide for details of coding style\n",
    "https://peps.python.org/pep-0008/\n",
    "</div>"
   ]
  },
  {
   "cell_type": "markdown",
   "id": "5b8da7e4",
   "metadata": {},
   "source": [
    "**Are these good variable names?**\n",
    "\n",
    "My_age\n",
    "\n",
    "my_Age\n",
    "\n",
    "my_age\n",
    "\n",
    "1st_week\n",
    "\n",
    "x\n",
    "\n",
    "l\n",
    "\n",
    "_\n",
    "\n",
    "\n",
    "input\n"
   ]
  },
  {
   "cell_type": "markdown",
   "id": "03cab409",
   "metadata": {},
   "source": [
    "## Strings"
   ]
  },
  {
   "cell_type": "code",
   "execution_count": 7,
   "id": "9a09a1dc",
   "metadata": {},
   "outputs": [],
   "source": [
    "first_name = \"Gregor\"\n",
    "last_name = \"Mendel\""
   ]
  },
  {
   "cell_type": "markdown",
   "id": "afb51a4c",
   "metadata": {},
   "source": [
    "<div class=\"alert alert-block alert-info\">\n",
    "    Concatenation\n",
    "</div> "
   ]
  },
  {
   "cell_type": "code",
   "execution_count": 8,
   "id": "27a47a27",
   "metadata": {},
   "outputs": [],
   "source": [
    "full_name = first_name + last_name"
   ]
  },
  {
   "cell_type": "code",
   "execution_count": 9,
   "id": "3790b99b",
   "metadata": {},
   "outputs": [
    {
     "name": "stdout",
     "output_type": "stream",
     "text": [
      "GregorMendel\n"
     ]
    }
   ],
   "source": [
    "print(full_name)"
   ]
  },
  {
   "cell_type": "markdown",
   "id": "07d1a4c2",
   "metadata": {},
   "source": [
    "<div class=\"alert alert-block alert-info\">\n",
    "    indexing and slicing\n",
    "</div> "
   ]
  },
  {
   "cell_type": "code",
   "execution_count": 10,
   "id": "6e8ee22f",
   "metadata": {},
   "outputs": [
    {
     "name": "stdout",
     "output_type": "stream",
     "text": [
      "M\n"
     ]
    }
   ],
   "source": [
    "print(full_name[6])"
   ]
  },
  {
   "cell_type": "code",
   "execution_count": 13,
   "id": "5d067429",
   "metadata": {},
   "outputs": [
    {
     "name": "stdout",
     "output_type": "stream",
     "text": [
      "egorMendel\n"
     ]
    }
   ],
   "source": [
    "print(full_name[2:])"
   ]
  },
  {
   "cell_type": "code",
   "execution_count": 14,
   "id": "e8097806",
   "metadata": {},
   "outputs": [
    {
     "name": "stdout",
     "output_type": "stream",
     "text": [
      "GregorMen\n"
     ]
    }
   ],
   "source": [
    "print(full_name[:-3])"
   ]
  },
  {
   "cell_type": "code",
   "execution_count": 16,
   "id": "135fa77e",
   "metadata": {},
   "outputs": [
    {
     "data": {
      "text/plain": [
       "'GeoMne'"
      ]
     },
     "execution_count": 16,
     "metadata": {},
     "output_type": "execute_result"
    }
   ],
   "source": [
    "#you can also include a step size in the slice - the full syntax is [start:stop:step]\n",
    "full_name[0::2]"
   ]
  },
  {
   "cell_type": "code",
   "execution_count": 17,
   "id": "8f68bbab",
   "metadata": {},
   "outputs": [
    {
     "name": "stdout",
     "output_type": "stream",
     "text": [
      "ledneMrogerG\n"
     ]
    }
   ],
   "source": [
    "#What if the step is negative?\n",
    "print(full_name[::-1])"
   ]
  },
  {
   "cell_type": "markdown",
   "id": "96e516fd",
   "metadata": {},
   "source": [
    "<div class=\"alert alert-block alert-info\">\n",
    "    String methods and functions\n",
    "</div> "
   ]
  },
  {
   "cell_type": "code",
   "execution_count": 18,
   "id": "597614f0",
   "metadata": {},
   "outputs": [
    {
     "data": {
      "text/plain": [
       "12"
      ]
     },
     "execution_count": 18,
     "metadata": {},
     "output_type": "execute_result"
    }
   ],
   "source": [
    "len(full_name)"
   ]
  },
  {
   "cell_type": "code",
   "execution_count": 19,
   "id": "0438351b",
   "metadata": {},
   "outputs": [
    {
     "data": {
      "text/plain": [
       "'GREGORMENDEL'"
      ]
     },
     "execution_count": 19,
     "metadata": {},
     "output_type": "execute_result"
    }
   ],
   "source": [
    "full_name.upper()"
   ]
  },
  {
   "cell_type": "code",
   "execution_count": 20,
   "id": "c773319d",
   "metadata": {},
   "outputs": [
    {
     "data": {
      "text/plain": [
       "['This', 'is', 'a', 'sentence']"
      ]
     },
     "execution_count": 20,
     "metadata": {},
     "output_type": "execute_result"
    }
   ],
   "source": [
    "\"This is a sentence\".split()"
   ]
  },
  {
   "cell_type": "code",
   "execution_count": 21,
   "id": "61044761",
   "metadata": {},
   "outputs": [
    {
     "data": {
      "text/plain": [
       "'Gregor Mendel'"
      ]
     },
     "execution_count": 21,
     "metadata": {},
     "output_type": "execute_result"
    }
   ],
   "source": [
    "\" \".join([first_name, last_name])"
   ]
  },
  {
   "cell_type": "code",
   "execution_count": 22,
   "id": "4dc5b990",
   "metadata": {},
   "outputs": [
    {
     "data": {
      "text/plain": [
       "True"
      ]
     },
     "execution_count": 22,
     "metadata": {},
     "output_type": "execute_result"
    }
   ],
   "source": [
    "#use the in keyword to check for presence in a string\n",
    "\"M\" in full_name"
   ]
  },
  {
   "cell_type": "code",
   "execution_count": 23,
   "id": "bc32446e",
   "metadata": {},
   "outputs": [
    {
     "ename": "TypeError",
     "evalue": "'str' object does not support item assignment",
     "output_type": "error",
     "traceback": [
      "\u001b[1;31m---------------------------------------------------------------------------\u001b[0m",
      "\u001b[1;31mTypeError\u001b[0m                                 Traceback (most recent call last)",
      "\u001b[1;32m~\\AppData\\Local\\Temp\\ipykernel_38480\\1235801017.py\u001b[0m in \u001b[0;36m<module>\u001b[1;34m\u001b[0m\n\u001b[1;32m----> 1\u001b[1;33m \u001b[0mfull_name\u001b[0m\u001b[1;33m[\u001b[0m\u001b[1;36m5\u001b[0m\u001b[1;33m]\u001b[0m \u001b[1;33m=\u001b[0m \u001b[1;34m\"S\"\u001b[0m\u001b[1;33m\u001b[0m\u001b[1;33m\u001b[0m\u001b[0m\n\u001b[0m",
      "\u001b[1;31mTypeError\u001b[0m: 'str' object does not support item assignment"
     ]
    }
   ],
   "source": [
    "full_name[5] = \"S\""
   ]
  },
  {
   "cell_type": "code",
   "execution_count": 24,
   "id": "9a80b8db",
   "metadata": {},
   "outputs": [
    {
     "data": {
      "text/plain": [
       "'GregorSendel'"
      ]
     },
     "execution_count": 24,
     "metadata": {},
     "output_type": "execute_result"
    }
   ],
   "source": [
    "#But you can use methods to achieve this\n",
    "full_name.replace(\"M\", \"S\")"
   ]
  },
  {
   "cell_type": "markdown",
   "id": "a4e83005",
   "metadata": {},
   "source": [
    "## Comments"
   ]
  },
  {
   "cell_type": "code",
   "execution_count": null,
   "id": "b4848ad5",
   "metadata": {},
   "outputs": [],
   "source": [
    "# Used to make text ignored by the interpreter\n",
    "\n",
    "\n",
    "print (x)\n",
    "\n",
    "#Can be interspersed with code\n",
    "print(y)  #can be inline\n",
    "\n",
    "#Can be used to turn code on and off\n",
    "\n",
    "result = x + y + z\n",
    "#print (result)  #use the # to turn the print statement on for debugging or development\n",
    "\n",
    "\"\"\"\n",
    "Can be multiline\n",
    "Use this style for function docstrings - these are used to document a function and are 'found' automatically\n",
    "Always end with the three \" on a separate line\n",
    "\n",
    "\"\"\"\n"
   ]
  },
  {
   "cell_type": "markdown",
   "id": "c7aa262d",
   "metadata": {},
   "source": [
    "Most importantly comments should help coders to understand how the code works, not just repeat what is written. Using meaninful variable names helps with this. See PEP8 for specific guidance - https://peps.python.org/pep-0008/"
   ]
  },
  {
   "cell_type": "markdown",
   "id": "eb9a5436",
   "metadata": {},
   "source": [
    "## Operators"
   ]
  },
  {
   "cell_type": "markdown",
   "id": "c39dd3b6",
   "metadata": {},
   "source": [
    "<div class=\"alert alert-block alert-info\">\n",
    "\n",
    "\n",
    "\n",
    "Used for computations and comparisons with variables - can be:\n",
    "\n",
    "- Arithmetic\n",
    "- Logical\n",
    "    \n",
    "</div>"
   ]
  },
  {
   "cell_type": "code",
   "execution_count": 26,
   "id": "8273aafa",
   "metadata": {},
   "outputs": [
    {
     "data": {
      "text/plain": [
       "25"
      ]
     },
     "execution_count": 26,
     "metadata": {},
     "output_type": "execute_result"
    }
   ],
   "source": [
    "#Examples of arithimetical operators\n",
    "\n",
    "a = 5\n",
    "b = 2\n",
    "\n",
    "a + b   #remember that + with strings is concatenation - operators are type dependent\n",
    "a - b\n",
    "a * b\n",
    "a / b\n",
    "a % b\n",
    "a // b\n",
    "a ** b\n",
    "\n",
    "#Remember BODMAS precendent rules for operators"
   ]
  },
  {
   "cell_type": "code",
   "execution_count": 27,
   "id": "e4ec1fd5",
   "metadata": {},
   "outputs": [
    {
     "data": {
      "text/plain": [
       "2"
      ]
     },
     "execution_count": 27,
     "metadata": {},
     "output_type": "execute_result"
    }
   ],
   "source": [
    "a//b"
   ]
  },
  {
   "cell_type": "code",
   "execution_count": null,
   "id": "9f4c0bd2",
   "metadata": {},
   "outputs": [],
   "source": [
    "#Operator assignments update variable values\n",
    "\n",
    "counter = 0\n",
    "\n",
    "#Increment by 1\n",
    "\n",
    "counter = counter + 1\n",
    "\n",
    "#This is equivalent\n",
    "\n",
    "counter += 1\n",
    "\n",
    "#Also works for other operators, e.g.\n",
    "\n",
    "counter *= 2\n"
   ]
  },
  {
   "cell_type": "markdown",
   "id": "760bafae",
   "metadata": {},
   "source": [
    "<div class=\"alert alert-block alert-info\">\n",
    "\n",
    "Logical operators work on Boolean objects and expressions - these work on values True and False which are keywords and a variable type\n",
    "    \n",
    "</div>"
   ]
  },
  {
   "cell_type": "code",
   "execution_count": 28,
   "id": "682f44de",
   "metadata": {},
   "outputs": [
    {
     "data": {
      "text/plain": [
       "True"
      ]
     },
     "execution_count": 28,
     "metadata": {},
     "output_type": "execute_result"
    }
   ],
   "source": [
    "True"
   ]
  },
  {
   "cell_type": "code",
   "execution_count": 29,
   "id": "094766e9",
   "metadata": {},
   "outputs": [
    {
     "data": {
      "text/plain": [
       "False"
      ]
     },
     "execution_count": 29,
     "metadata": {},
     "output_type": "execute_result"
    }
   ],
   "source": [
    "False"
   ]
  },
  {
   "cell_type": "code",
   "execution_count": 30,
   "id": "22d476ff",
   "metadata": {},
   "outputs": [
    {
     "ename": "NameError",
     "evalue": "name 'true' is not defined",
     "output_type": "error",
     "traceback": [
      "\u001b[1;31m---------------------------------------------------------------------------\u001b[0m",
      "\u001b[1;31mNameError\u001b[0m                                 Traceback (most recent call last)",
      "\u001b[1;32m~\\AppData\\Local\\Temp\\ipykernel_38480\\1092976003.py\u001b[0m in \u001b[0;36m<module>\u001b[1;34m\u001b[0m\n\u001b[1;32m----> 1\u001b[1;33m \u001b[0mtrue\u001b[0m   \u001b[1;31m#case is important\u001b[0m\u001b[1;33m\u001b[0m\u001b[1;33m\u001b[0m\u001b[0m\n\u001b[0m",
      "\u001b[1;31mNameError\u001b[0m: name 'true' is not defined"
     ]
    }
   ],
   "source": [
    "true   #case is important"
   ]
  },
  {
   "cell_type": "code",
   "execution_count": 31,
   "id": "a6b6b39f",
   "metadata": {},
   "outputs": [],
   "source": [
    "#Boolean results will be output by a logical expression\n",
    "test = 1 < 2"
   ]
  },
  {
   "cell_type": "code",
   "execution_count": 32,
   "id": "aa3d7ee3",
   "metadata": {},
   "outputs": [
    {
     "name": "stdout",
     "output_type": "stream",
     "text": [
      "True\n"
     ]
    }
   ],
   "source": [
    "print (test)"
   ]
  },
  {
   "cell_type": "code",
   "execution_count": 33,
   "id": "da65ae60",
   "metadata": {},
   "outputs": [
    {
     "data": {
      "text/plain": [
       "bool"
      ]
     },
     "execution_count": 33,
     "metadata": {},
     "output_type": "execute_result"
    }
   ],
   "source": [
    "type (test)"
   ]
  },
  {
   "cell_type": "markdown",
   "id": "654c4b9f",
   "metadata": {},
   "source": [
    "What are these operators?\n",
    "\n",
    "- \\>\n",
    "- \\<\n",
    "- <=\n",
    "- ==\n",
    "- \\>=\n",
    "- !=\n"
   ]
  },
  {
   "cell_type": "markdown",
   "id": "0906f6b4",
   "metadata": {},
   "source": [
    "<div class=\"alert alert-block alert-info\">\n",
    "\n",
    "Remember that = is assignment and == is comparison  \n",
    "</div>"
   ]
  },
  {
   "cell_type": "code",
   "execution_count": 36,
   "id": "9059566a",
   "metadata": {},
   "outputs": [
    {
     "name": "stdout",
     "output_type": "stream",
     "text": [
      "True\n",
      "True\n",
      "False\n",
      "False\n"
     ]
    }
   ],
   "source": [
    "#Boolean tests also work on 0 and 1\n",
    "a = 0\n",
    "b = 1\n",
    "c = 2\n",
    "d = 3\n",
    "\n",
    "print(a == False)\n",
    "print(b == True)\n",
    "print(c == False)\n",
    "print(d == True)"
   ]
  },
  {
   "cell_type": "markdown",
   "id": "c43343f9",
   "metadata": {},
   "source": [
    "Watch out - Functions may give a `True` or `False` result. They might also give a `None` result if there is no output which helps you test if there is no legitimate output"
   ]
  },
  {
   "cell_type": "code",
   "execution_count": null,
   "id": "3d099a81",
   "metadata": {},
   "outputs": [],
   "source": [
    "None   #None is a keyword"
   ]
  },
  {
   "cell_type": "markdown",
   "id": "982d6636",
   "metadata": {},
   "source": [
    "Operators also include:\n",
    "\n",
    "- not  \n",
    "- or\n",
    "- and"
   ]
  },
  {
   "cell_type": "code",
   "execution_count": null,
   "id": "2a3886f9",
   "metadata": {},
   "outputs": [],
   "source": []
  },
  {
   "cell_type": "markdown",
   "id": "06f1189f",
   "metadata": {},
   "source": [
    "## Conditionals"
   ]
  },
  {
   "cell_type": "markdown",
   "id": "07e2938a",
   "metadata": {},
   "source": [
    "We can use logical operators to control the flow of a programme using the keywords `if`, `elif` and `else`"
   ]
  },
  {
   "cell_type": "code",
   "execution_count": 37,
   "id": "d20b19f3",
   "metadata": {},
   "outputs": [
    {
     "name": "stdout",
     "output_type": "stream",
     "text": [
      "Pass\n"
     ]
    }
   ],
   "source": [
    "score = 65\n",
    "\n",
    "if score < 50:\n",
    "    print(\"Fail\")\n",
    "elif score < 60:\n",
    "    print(\"Merit\")\n",
    "else:\n",
    "    print(\"Dist\")\n",
    "    \n",
    "#Take note of the indentation and use of : to indicate which lines will be executed\n",
    "#else is not obligatory"
   ]
  },
  {
   "cell_type": "markdown",
   "id": "9b4518b9",
   "metadata": {},
   "source": [
    "<div class=\"alert alert-block alert-info\">\n",
    "Extend this snippet to test for grade bands fail (less than 50), pass (less than 60) and merit (60 or higher)\n",
    "</div>"
   ]
  },
  {
   "cell_type": "markdown",
   "id": "b1a9529d",
   "metadata": {},
   "source": [
    "If the variables you are testing are boolean you can just use `if` without an operator"
   ]
  },
  {
   "cell_type": "code",
   "execution_count": 38,
   "id": "517ef22e",
   "metadata": {},
   "outputs": [
    {
     "name": "stdout",
     "output_type": "stream",
     "text": [
      "Well done\n"
     ]
    }
   ],
   "source": [
    "passed_exam = True\n",
    "\n",
    "if passed_exam:\n",
    "    print(\"Well done\")\n",
    "else:\n",
    "    print(\"Try again\")"
   ]
  },
  {
   "cell_type": "markdown",
   "id": "21bea1f8",
   "metadata": {},
   "source": [
    "You can also test if objects contain anything, e.g. if a list has any contents. This can be useful for catching errors in your code when an operation has failed"
   ]
  },
  {
   "cell_type": "code",
   "execution_count": 39,
   "id": "445d1855",
   "metadata": {},
   "outputs": [
    {
     "name": "stdout",
     "output_type": "stream",
     "text": [
      "We have fruit\n",
      "We need veg\n"
     ]
    }
   ],
   "source": [
    "fruits = [\"apple\", \"orange\"]\n",
    "veg = []\n",
    "\n",
    "if fruits:\n",
    "    print(\"We have fruit\")\n",
    "    \n",
    "if veg:\n",
    "    print(\"We have veg\")\n",
    "    \n",
    "if not veg:\n",
    "    print(\"We need veg\")"
   ]
  },
  {
   "cell_type": "markdown",
   "id": "38b30f3d",
   "metadata": {},
   "source": [
    "<div class=\"alert alert-block alert-info\">\n",
    "What's the difference between `else` and `elif`?\n",
    "</div>\n"
   ]
  },
  {
   "cell_type": "markdown",
   "id": "4aa2563e",
   "metadata": {},
   "source": [
    "## Data Structures"
   ]
  },
  {
   "cell_type": "markdown",
   "id": "3e2d9c33",
   "metadata": {},
   "source": [
    "<div class=\"alert alert-block alert-info\">\n",
    "Data structures hold more than one variable. The basic data structures are: \n",
    "    \n",
    "- lists\n",
    "- tuples\n",
    "-dictionaries\n",
    "-sets\n",
    "</div>"
   ]
  },
  {
   "cell_type": "markdown",
   "id": "fb8050a2",
   "metadata": {},
   "source": [
    "### Lists"
   ]
  },
  {
   "cell_type": "markdown",
   "id": "a4d388d3",
   "metadata": {},
   "source": [
    "Lists hold a list of objects in a specific order. They are used to hold sets of data in a programme"
   ]
  },
  {
   "cell_type": "code",
   "execution_count": 40,
   "id": "9b8d5c48",
   "metadata": {},
   "outputs": [
    {
     "name": "stdout",
     "output_type": "stream",
     "text": [
      "['apple', 'pear', 'banana']\n"
     ]
    }
   ],
   "source": [
    "my_list = [\"apple\", \"pear\", \"banana\"]\n",
    "print(my_list)"
   ]
  },
  {
   "cell_type": "code",
   "execution_count": 41,
   "id": "0d9dbcb3",
   "metadata": {},
   "outputs": [
    {
     "name": "stdout",
     "output_type": "stream",
     "text": [
      "pear\n"
     ]
    }
   ],
   "source": [
    "print(my_list[1])"
   ]
  },
  {
   "cell_type": "code",
   "execution_count": 42,
   "id": "9a96def1",
   "metadata": {},
   "outputs": [
    {
     "data": {
      "text/plain": [
       "3"
      ]
     },
     "execution_count": 42,
     "metadata": {},
     "output_type": "execute_result"
    }
   ],
   "source": [
    "len(my_list)"
   ]
  },
  {
   "cell_type": "code",
   "execution_count": 43,
   "id": "e1056748",
   "metadata": {},
   "outputs": [],
   "source": [
    "my_new_list = []  #lists are created using square brackets"
   ]
  },
  {
   "cell_type": "code",
   "execution_count": 44,
   "id": "309af3ed",
   "metadata": {},
   "outputs": [],
   "source": [
    "my_new_list.append(\"mouse\")\n",
    "my_new_list.append(\"cow\")\n",
    "my_new_list.append(\"zebra fish\")"
   ]
  },
  {
   "cell_type": "code",
   "execution_count": 45,
   "id": "d0803dbc",
   "metadata": {},
   "outputs": [
    {
     "name": "stdout",
     "output_type": "stream",
     "text": [
      "['mouse', 'cow', 'zebra fish']\n"
     ]
    }
   ],
   "source": [
    "print(my_new_list)"
   ]
  },
  {
   "cell_type": "markdown",
   "id": "0e1da010",
   "metadata": {},
   "source": [
    "<div class=\"alert alert-block alert-info\">\n",
    "    Unlike strings, lists are mutable. You can replace or delete elements and extend the list. There are many functions that can be applied to do things like sort, reverse, count and copy the list. Lists elements can be other objects including other lists (to make matrices) and these can be mixed objects.\n",
    "    </div>"
   ]
  },
  {
   "cell_type": "code",
   "execution_count": 46,
   "id": "f8c08094",
   "metadata": {},
   "outputs": [],
   "source": [
    "my_new_list[0] = 'rat'"
   ]
  },
  {
   "cell_type": "code",
   "execution_count": 47,
   "id": "9deb0686",
   "metadata": {},
   "outputs": [
    {
     "name": "stdout",
     "output_type": "stream",
     "text": [
      "['rat', 'cow', 'zebra fish']\n"
     ]
    }
   ],
   "source": [
    "print (my_new_list)"
   ]
  },
  {
   "cell_type": "code",
   "execution_count": 48,
   "id": "b18f6e6e",
   "metadata": {},
   "outputs": [
    {
     "name": "stdout",
     "output_type": "stream",
     "text": [
      "['zebra fish', 'cow', 'rat']\n"
     ]
    }
   ],
   "source": [
    "my_new_list.reverse()\n",
    "print(my_new_list)"
   ]
  },
  {
   "cell_type": "markdown",
   "id": "112e2891",
   "metadata": {},
   "source": [
    "Find if items are in a list using `in`"
   ]
  },
  {
   "cell_type": "code",
   "execution_count": 49,
   "id": "b0fb282c",
   "metadata": {},
   "outputs": [
    {
     "name": "stdout",
     "output_type": "stream",
     "text": [
      "There's a cow\n"
     ]
    }
   ],
   "source": [
    "if \"cow\" in my_new_list:\n",
    "    print(\"There's a cow\")\n",
    "else:\n",
    "    print(\"There isn't a cow\")"
   ]
  },
  {
   "cell_type": "markdown",
   "id": "afaaefba",
   "metadata": {},
   "source": [
    "### Dicts"
   ]
  },
  {
   "cell_type": "markdown",
   "id": "7c9b98d3",
   "metadata": {},
   "source": [
    "<div class=\"alert alert-block alert-info\">\n",
    "    Dictionaries or dicts hold data as key:value pairs within a single data structure. Data items can be any object including other data structures. Lists and dicts are often used together. As of Python 3.7 dicts are guaranteed to be ordered according the insertion order of items. \n",
    "      </div>"
   ]
  },
  {
   "cell_type": "code",
   "execution_count": 50,
   "id": "56b0639c",
   "metadata": {},
   "outputs": [],
   "source": [
    "med_data = {\n",
    "    \"name\": \"Mike Smith\",\n",
    "    \"dob\": \"13/12/1979\",\n",
    "    \"age\": 40,\n",
    "    \"NHS number\": 1223322334,\n",
    "    \"BP\": \"120/80\",\n",
    "    \"HR\": 76,\n",
    "    \"PMH\" : [\"diabetes\", \"hypertension\", \"atrial fibrillation\"]\n",
    "}"
   ]
  },
  {
   "cell_type": "markdown",
   "id": "5379d727",
   "metadata": {},
   "source": [
    "We can access all the data in a dict or access individual items. As with lists there are many functions that can be used with dicts and they are mutable. Braces or curly brackets {} are associated with dicts."
   ]
  },
  {
   "cell_type": "code",
   "execution_count": 51,
   "id": "fe700ded",
   "metadata": {},
   "outputs": [
    {
     "name": "stdout",
     "output_type": "stream",
     "text": [
      "{'name': 'Mike Smith', 'dob': '13/12/1979', 'age': 40, 'NHS number': 1223322334, 'BP': '120/80', 'HR': 76, 'PMH': ['diabetes', 'hypertension', 'atrial fibrillation']}\n"
     ]
    }
   ],
   "source": [
    "print(med_data)"
   ]
  },
  {
   "cell_type": "code",
   "execution_count": 52,
   "id": "7b089728",
   "metadata": {},
   "outputs": [
    {
     "name": "stdout",
     "output_type": "stream",
     "text": [
      "Mike Smith\n"
     ]
    }
   ],
   "source": [
    "#Access individual values using the key\n",
    "print(med_data[\"name\"])"
   ]
  },
  {
   "cell_type": "code",
   "execution_count": null,
   "id": "bc32963a",
   "metadata": {},
   "outputs": [],
   "source": [
    "#Create empty dicts using dict() or {}. Add items by defining a key and its value\n",
    "new_dict = {}  # or new_dict = dict()\n",
    "new_dict[\"height\"] = \"1.8m\"\n",
    "print(new_dict)"
   ]
  },
  {
   "cell_type": "code",
   "execution_count": 53,
   "id": "c6ed2ce0",
   "metadata": {},
   "outputs": [
    {
     "name": "stdout",
     "output_type": "stream",
     "text": [
      "The four DNA bases are A C G T\n",
      "The four DNA bases are Adenine Cytosine Guanine Thymine\n"
     ]
    }
   ],
   "source": [
    "#Dictionaries are good as lookup tables - they allow fast and easily coded conversions\n",
    "\n",
    "bases = {\n",
    "    \"A\": \"Adenine\",\n",
    "    \"C\": \"Cytosine\",\n",
    "    \"G\": \"Guanine\",\n",
    "    \"T\": \"Thymine\"\n",
    "}\n",
    "\n",
    "print(\"The four DNA bases are A C G T\")\n",
    "print(\"The four DNA bases are\", bases[\"A\"], bases[\"C\"], bases[\"G\"], bases[\"T\"])"
   ]
  },
  {
   "cell_type": "markdown",
   "id": "21dd304e",
   "metadata": {},
   "source": [
    "### Sets"
   ]
  },
  {
   "attachments": {},
   "cell_type": "markdown",
   "id": "371823fc",
   "metadata": {},
   "source": [
    "<div class=\"alert alert-block alert-info\"> \n",
    "Sets contain distinct objects separated by commas - no duplicates are allowed. Sets are unordered - there is no guarantee that objects will be returned in the same order as they were added to the set. There is no index and they are mutable - items can be added using `add()` and removed using `remove()` but stored items cannot be changed. Items can be mixed types but cannot include mutable objects like lists or dicts. There is a range of other functions, in particular you can use mathematical set operations such as `difference`, `union` and `intersection`\n",
    "\n",
    "</div>"
   ]
  },
  {
   "cell_type": "markdown",
   "id": "af8c13e7",
   "metadata": {},
   "source": [
    "![title](sets.png)"
   ]
  },
  {
   "cell_type": "code",
   "execution_count": 54,
   "id": "06466ed9",
   "metadata": {},
   "outputs": [
    {
     "name": "stdout",
     "output_type": "stream",
     "text": [
      "{1, 2, 'A'}\n",
      "{'A', 'B', 'C'}\n"
     ]
    }
   ],
   "source": [
    "#Create a set using braces {} or set()\n",
    "set_A = {1, 2, \"A\", 2}\n",
    "set_B = set((\"A\", \"B\", \"C\"))\n",
    "print(set_A)\n",
    "print(set_B)"
   ]
  },
  {
   "cell_type": "code",
   "execution_count": 55,
   "id": "a57cad2c",
   "metadata": {},
   "outputs": [
    {
     "data": {
      "text/plain": [
       "{1, 2, 'A', 'B', 'C'}"
      ]
     },
     "execution_count": 55,
     "metadata": {},
     "output_type": "execute_result"
    }
   ],
   "source": [
    "set_A.union(set_B)"
   ]
  },
  {
   "cell_type": "markdown",
   "id": "c19fc6c0",
   "metadata": {},
   "source": [
    "### Tuples"
   ]
  },
  {
   "cell_type": "markdown",
   "id": "226c9b43",
   "metadata": {},
   "source": [
    "<div class=\"alert alert-block alert-info\"> \n",
    "Tuples are ordered and immutable finite collections - items cannot be changed or added/removed. They can have duplicate elements and the elements can be any number of any datatype, so can include other data structures.\n",
    "</div>"
   ]
  },
  {
   "cell_type": "code",
   "execution_count": 56,
   "id": "32e7669a",
   "metadata": {},
   "outputs": [
    {
     "name": "stdout",
     "output_type": "stream",
     "text": [
      "(1, 2, 3, 'A')\n",
      "('A', 'B', 'C')\n"
     ]
    }
   ],
   "source": [
    "#Create a tuple using normal brackets () or tuple()\n",
    "tup_1 = (1, 2, 3, \"A\")\n",
    "tup_2 = tuple((\"A\", \"B\", \"C\"))\n",
    "print(tup_1)\n",
    "print(tup_2)"
   ]
  },
  {
   "cell_type": "code",
   "execution_count": 57,
   "id": "b6118fad",
   "metadata": {},
   "outputs": [
    {
     "name": "stdout",
     "output_type": "stream",
     "text": [
      "1\n",
      "('A', 'B')\n"
     ]
    }
   ],
   "source": [
    "#reference the elements list a list\n",
    "print(tup_1[0])\n",
    "print(tup_2[0:2])"
   ]
  },
  {
   "cell_type": "code",
   "execution_count": 58,
   "id": "dba986dd",
   "metadata": {},
   "outputs": [
    {
     "ename": "TypeError",
     "evalue": "'tuple' object does not support item assignment",
     "output_type": "error",
     "traceback": [
      "\u001b[1;31m---------------------------------------------------------------------------\u001b[0m",
      "\u001b[1;31mTypeError\u001b[0m                                 Traceback (most recent call last)",
      "\u001b[1;32m~\\AppData\\Local\\Temp\\ipykernel_38480\\3965933668.py\u001b[0m in \u001b[0;36m<module>\u001b[1;34m\u001b[0m\n\u001b[1;32m----> 1\u001b[1;33m \u001b[0mtup_1\u001b[0m\u001b[1;33m[\u001b[0m\u001b[1;36m0\u001b[0m\u001b[1;33m]\u001b[0m \u001b[1;33m=\u001b[0m \u001b[1;36m4\u001b[0m\u001b[1;33m\u001b[0m\u001b[1;33m\u001b[0m\u001b[0m\n\u001b[0m",
      "\u001b[1;31mTypeError\u001b[0m: 'tuple' object does not support item assignment"
     ]
    }
   ],
   "source": [
    "tup_1[0] = 4"
   ]
  },
  {
   "cell_type": "markdown",
   "id": "396cbec7",
   "metadata": {},
   "source": [
    "### Why choose different data stuctures?"
   ]
  },
  {
   "cell_type": "markdown",
   "id": "a2404f6c",
   "metadata": {},
   "source": [
    "<div class=\"alert alert-block alert-info\"> \n",
    "Unlike data types, you must choose which data structure to use. Often this will be dictated by the type of data that you have or the type of behaviour that you want, e.g. do you want to be able to change elements. When there is a lot of data you might also need to consider performance. Finding elements in a dict is very efficient and take a constant time, more so than lists where search time is dependent on the number of elements. Tuples are similarly efficient and are safer because they cannot be changed so suit applications where data items are constant.\n",
    "\n",
    "</div>"
   ]
  },
  {
   "cell_type": "code",
   "execution_count": null,
   "id": "a9830f31",
   "metadata": {},
   "outputs": [],
   "source": []
  }
 ],
 "metadata": {
  "kernelspec": {
   "display_name": "Python 3 (ipykernel)",
   "language": "python",
   "name": "python3"
  },
  "language_info": {
   "codemirror_mode": {
    "name": "ipython",
    "version": 3
   },
   "file_extension": ".py",
   "mimetype": "text/x-python",
   "name": "python",
   "nbconvert_exporter": "python",
   "pygments_lexer": "ipython3",
   "version": "3.7.16"
  }
 },
 "nbformat": 4,
 "nbformat_minor": 5
}
